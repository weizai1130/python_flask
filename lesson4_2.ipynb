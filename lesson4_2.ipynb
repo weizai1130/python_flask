{
 "cells": [
  {
   "cell_type": "code",
   "execution_count": 40,
   "metadata": {},
   "outputs": [],
   "source": [
    "#自訂Function,一個參數\n",
    "def get_factor(para1):\n",
    "    print(f\"{para1}的因數是:\")\n",
    "    for i in range(1,para1+1):\n",
    "        if para1 % i == 0:\n",
    "         print(i)\n",
    "    print(\"=======結束=======\")"
   ]
  },
  {
   "cell_type": "code",
   "execution_count": 41,
   "metadata": {},
   "outputs": [
    {
     "name": "stdout",
     "output_type": "stream",
     "text": [
      "1357的因數是:\n",
      "1\n",
      "23\n",
      "59\n",
      "1357\n",
      "=======結束=======\n"
     ]
    }
   ],
   "source": [
    "get_factor(1357)"
   ]
  },
  {
   "cell_type": "code",
   "execution_count": 49,
   "metadata": {},
   "outputs": [
    {
     "name": "stdout",
     "output_type": "stream",
     "text": [
      "78的因數是:\n",
      "1\n",
      "2\n",
      "3\n",
      "6\n",
      "13\n",
      "26\n",
      "39\n",
      "78\n",
      "=======結束=======\n",
      "95的因數是:\n",
      "1\n",
      "5\n",
      "19\n",
      "95\n",
      "=======結束=======\n",
      "107的因數是:\n",
      "1\n",
      "107\n",
      "=======結束=======\n",
      "45的因數是:\n",
      "1\n",
      "3\n",
      "5\n",
      "9\n",
      "15\n",
      "45\n",
      "=======結束=======\n",
      "12的因數是:\n",
      "1\n",
      "2\n",
      "3\n",
      "4\n",
      "6\n",
      "12\n",
      "=======結束=======\n"
     ]
    }
   ],
   "source": [
    "#nums = [78,95,107,45]\n",
    "#for num in nums:\n",
    "#    get_factor(num)\n",
    "\n",
    "for num in [78,95,107,45,12]:\n",
    "    get_factor(num)"
   ]
  }
 ],
 "metadata": {
  "kernelspec": {
   "display_name": "Python 3",
   "language": "python",
   "name": "python3"
  },
  "language_info": {
   "codemirror_mode": {
    "name": "ipython",
    "version": 3
   },
   "file_extension": ".py",
   "mimetype": "text/x-python",
   "name": "python",
   "nbconvert_exporter": "python",
   "pygments_lexer": "ipython3",
   "version": "3.9.16"
  },
  "orig_nbformat": 4
 },
 "nbformat": 4,
 "nbformat_minor": 2
}
