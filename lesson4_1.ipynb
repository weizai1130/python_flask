{
 "cells": [
  {
   "cell_type": "code",
   "execution_count": 49,
   "metadata": {},
   "outputs": [
    {
     "name": "stdout",
     "output_type": "stream",
     "text": [
      "總共存了1月，共存了3200000\n"
     ]
    }
   ],
   "source": [
    "#小名想要存錢買一輛機車，機車每輛30000元，他將每月存的錢輸入，當存款族購買機車時，就顯示提示\n",
    "\n",
    "deposit = 0\n",
    "num = 0\n",
    "while(deposit < 30000):\n",
    "    num += 1\n",
    "    input_value = int(input(\"請輸入本月份的存款:\"))\n",
    "    deposit += input_value\n",
    "\n",
    "print(f\"總共存了{num}月，共存了{deposit}\")"
   ]
  },
  {
   "cell_type": "code",
   "execution_count": 50,
   "metadata": {},
   "outputs": [
    {
     "name": "stdout",
     "output_type": "stream",
     "text": [
      "總共存了1月，共存了1231313132\n"
     ]
    }
   ],
   "source": [
    "#小名想要存錢買一輛機車，機車每輛30000元，他將每月存的錢輸入，當存款族購買機車時，就顯示提示\n",
    "\n",
    "deposit = 0\n",
    "num = 0\n",
    "while(deposit < 30000):\n",
    "    num += 1\n",
    "    input_value = int(input(\"請輸入本月份的存款:\"))\n",
    "    deposit += input_value\n",
    "    if(deposit >= 30000):\n",
    "        break\n",
    "\n",
    "print(f\"總共存了{num}月，共存了{deposit}\")"
   ]
  },
  {
   "cell_type": "code",
   "execution_count": 51,
   "metadata": {},
   "outputs": [
    {
     "ename": "ValueError",
     "evalue": "invalid literal for int() with base 10: ''",
     "output_type": "error",
     "traceback": [
      "\u001b[0;31m---------------------------------------------------------------------------\u001b[0m",
      "\u001b[0;31mValueError\u001b[0m                                Traceback (most recent call last)",
      "Cell \u001b[0;32mIn[51], line 7\u001b[0m\n\u001b[1;32m      5\u001b[0m \u001b[39mwhile\u001b[39;00m(\u001b[39mTrue\u001b[39;00m):\n\u001b[1;32m      6\u001b[0m     num \u001b[39m+\u001b[39m\u001b[39m=\u001b[39m \u001b[39m1\u001b[39m\n\u001b[0;32m----> 7\u001b[0m     input_num \u001b[39m=\u001b[39m \u001b[39mint\u001b[39;49m(\u001b[39minput\u001b[39;49m(\u001b[39mf\u001b[39;49m\u001b[39m\"\u001b[39;49m\u001b[39m請輸入第\u001b[39;49m\u001b[39m{\u001b[39;49;00mnum\u001b[39m}\u001b[39;49;00m\u001b[39m個數值:\u001b[39;49m\u001b[39m\"\u001b[39;49m))\n\u001b[1;32m      8\u001b[0m     \u001b[39mif\u001b[39;00m input_num \u001b[39m<\u001b[39m \u001b[39m0\u001b[39m:\n\u001b[1;32m      9\u001b[0m         \u001b[39mbreak\u001b[39;00m\n",
      "\u001b[0;31mValueError\u001b[0m: invalid literal for int() with base 10: ''"
     ]
    }
   ],
   "source": [
    "#請設計一個程式，讓使用者輸入數值，只有加總正偶數值，不加總正奇數，如果輸入負數，結束程式。\n",
    "\n",
    "sum = 0\n",
    "num = 0\n",
    "while(True):\n",
    "    num += 1\n",
    "    input_num = int(input(f\"請輸入第{num}個數值:\"))\n",
    "    if input_num < 0:\n",
    "        break\n",
    "    elif input_num % 2 == 1:\n",
    "        continue\n",
    "    else:\n",
    "        sum += input_num\n",
    "print(f\"所有輸入的正偶數加總是:{sum}\")\n"
   ]
  },
  {
   "cell_type": "code",
   "execution_count": null,
   "metadata": {},
   "outputs": [
    {
     "name": "stdout",
     "output_type": "stream",
     "text": [
      "第 1.0 次迴圈的i = 2 總和為 2\n",
      "第 2.0 次迴圈的i = 4 總和為 6\n",
      "第 3.0 次迴圈的i = 6 總和為 12\n",
      "第 4.0 次迴圈的i = 8 總和為 20\n",
      "第 5.0 次迴圈的i = 10 總和為 30\n"
     ]
    }
   ],
   "source": [
    "sum = 0\n",
    "i = 2\n",
    "while(i <=10):\n",
    "    sum += i\n",
    "    print(\"第\",i/2,\"次迴圈的i =\",i,\"總和為\",sum);\n",
    "    i += 2"
   ]
  },
  {
   "cell_type": "code",
   "execution_count": null,
   "metadata": {},
   "outputs": [
    {
     "name": "stdout",
     "output_type": "stream",
     "text": [
      "35的因數是:\n",
      "1\n",
      "5\n",
      "7\n",
      "35\n",
      "=======結束=======\n"
     ]
    }
   ],
   "source": [
    "num = int(input(\"請輸入一個數值，並求其因數:\"))\n",
    "print(f\"{num}的因數是:\")\n",
    "for i in range(1,num+1):\n",
    "    if num % i == 0:\n",
    "        print(i)\n",
    "print(\"=======結束=======\")"
   ]
  },
  {
   "cell_type": "code",
   "execution_count": 57,
   "metadata": {},
   "outputs": [],
   "source": [
    "#自訂Function\n",
    "def get_factor():\n",
    "    num = int(input(\"請輸入一個數值，並求其因數:\"))\n",
    "    print(f\"{num}的因數是:\")\n",
    "    for i in range(1,num+1):\n",
    "        if num % i == 0:\n",
    "         print(i)\n",
    "    print(\"=======結束=======\")"
   ]
  },
  {
   "cell_type": "code",
   "execution_count": 58,
   "metadata": {},
   "outputs": [
    {
     "name": "stdout",
     "output_type": "stream",
     "text": [
      "19的因數是:\n",
      "1\n",
      "19\n",
      "=======結束=======\n",
      "18的因數是:\n",
      "1\n",
      "2\n",
      "3\n",
      "6\n",
      "9\n",
      "18\n",
      "=======結束=======\n",
      "17的因數是:\n",
      "1\n",
      "17\n",
      "=======結束=======\n",
      "16的因數是:\n",
      "1\n",
      "2\n",
      "4\n",
      "8\n",
      "16\n",
      "=======結束=======\n",
      "15的因數是:\n",
      "1\n",
      "3\n",
      "5\n",
      "15\n",
      "=======結束=======\n"
     ]
    }
   ],
   "source": [
    "#呼叫function\n",
    "for i in range(5):\n",
    "    get_factor()\n"
   ]
  },
  {
   "cell_type": "code",
   "execution_count": 66,
   "metadata": {},
   "outputs": [
    {
     "data": {
      "text/plain": [
       "(78, 92, 35, 41, 69)"
      ]
     },
     "execution_count": 66,
     "metadata": {},
     "output_type": "execute_result"
    }
   ],
   "source": [
    "#list\n",
    "nums = [78,92,35,41,69]\n",
    "nums[0],nums[1],nums[2],nums[3],nums[4]"
   ]
  },
  {
   "cell_type": "code",
   "execution_count": 70,
   "metadata": {},
   "outputs": [
    {
     "name": "stdout",
     "output_type": "stream",
     "text": [
      "78\n",
      "92\n",
      "35\n",
      "41\n",
      "69\n"
     ]
    }
   ],
   "source": [
    "for i in range(5):\n",
    "    print(nums[i])"
   ]
  },
  {
   "cell_type": "code",
   "execution_count": 71,
   "metadata": {},
   "outputs": [
    {
     "name": "stdout",
     "output_type": "stream",
     "text": [
      "78\n",
      "92\n",
      "35\n",
      "41\n",
      "69\n"
     ]
    }
   ],
   "source": [
    "for item in nums:\n",
    "    print(item)"
   ]
  },
  {
   "cell_type": "code",
   "execution_count": 72,
   "metadata": {},
   "outputs": [
    {
     "name": "stdout",
     "output_type": "stream",
     "text": [
      "69\n"
     ]
    }
   ],
   "source": [
    "print(item)"
   ]
  }
 ],
 "metadata": {
  "kernelspec": {
   "display_name": "Python 3",
   "language": "python",
   "name": "python3"
  },
  "language_info": {
   "codemirror_mode": {
    "name": "ipython",
    "version": 3
   },
   "file_extension": ".py",
   "mimetype": "text/x-python",
   "name": "python",
   "nbconvert_exporter": "python",
   "pygments_lexer": "ipython3",
   "version": "3.9.16"
  },
  "orig_nbformat": 4
 },
 "nbformat": 4,
 "nbformat_minor": 2
}
