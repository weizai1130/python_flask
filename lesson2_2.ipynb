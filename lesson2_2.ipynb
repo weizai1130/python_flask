{
 "cells": [
  {
   "cell_type": "code",
   "execution_count": 15,
   "metadata": {},
   "outputs": [
    {
     "name": "stdout",
     "output_type": "stream",
     "text": [
      "123+456\n"
     ]
    }
   ],
   "source": [
    "n = 5\n",
    "m = 10\n",
    "result = input(f\"請輸入{n} + {m}數值:\")\n",
    "print(result)"
   ]
  },
  {
   "cell_type": "code",
   "execution_count": 22,
   "metadata": {},
   "outputs": [
    {
     "name": "stdout",
     "output_type": "stream",
     "text": [
      "123.0 + 456.0 + 789.0 = 1368.0\n"
     ]
    }
   ],
   "source": [
    "#請輸入第一個數:87.9\n",
    "#請輸入第二個數:45\n",
    "#請輸入第三個數:87.5\n",
    "\n",
    "n =float(input(\"請輸入第1個數\"))\n",
    "m =float(input(\"請輸入第2個數\"))\n",
    "x =float(input(\"請輸入第3個數\"))\n",
    "\n",
    "result = n + m + x\n",
    "print(f\"{n} + {m} + {x} = {result}\")"
   ]
  },
  {
   "cell_type": "code",
   "execution_count": 26,
   "metadata": {},
   "outputs": [
    {
     "name": "stdout",
     "output_type": "stream",
     "text": [
      "總合為=120.0\n"
     ]
    }
   ],
   "source": [
    "#請輸入第一個數:87.9\n",
    "#請輸入第二個數:45\n",
    "#請輸入第三個數:87.5\n",
    "\n",
    "result = 0\n",
    "n =float(input(\"請輸入第1個數\"))\n",
    "result += n\n",
    "m =float(input(\"請輸入第2個數\"))\n",
    "result += n\n",
    "x =float(input(\"請輸入第3個數\"))\n",
    "result += n\n",
    "\n",
    "print(f\"總合為={result}\")"
   ]
  },
  {
   "cell_type": "code",
   "execution_count": 39,
   "metadata": {},
   "outputs": [
    {
     "name": "stdout",
     "output_type": "stream",
     "text": [
      "梯形的面積:15.0平方公分\n"
     ]
    }
   ],
   "source": [
    "#請輸入梯形的上底(公分):5\n",
    "#請輸入梯形的下底(公分):10\n",
    "#請輸入梯形的高(公分):2\n",
    "\n",
    "result = 0\n",
    "n = float(input(\"請輸入上底(公分)\"))\n",
    "result += n\n",
    "n = float(input(\"請輸入下底(公分)\"))\n",
    "result += n\n",
    "n = float(input(\"請輸入高(公分)\"))\n",
    "result *= n/2\n",
    "\n",
    "print(f\"梯形的面積:{result}平方公分\")"
   ]
  },
  {
   "cell_type": "code",
   "execution_count": 47,
   "metadata": {},
   "outputs": [
    {
     "name": "stdout",
     "output_type": "stream",
     "text": [
      "直角三角形的角度為:30.0\n"
     ]
    }
   ],
   "source": [
    "import math\n",
    "m = float(input(\"請輸入對邊:\"))\n",
    "n = float(input(\"請輸入斜邊:\"))\n",
    "degree = math.degrees(math.asin(m/n))\n",
    "print(f\"直角三角形的角度為:{round(degree,2)}\")"
   ]
  }
 ],
 "metadata": {
  "kernelspec": {
   "display_name": "Python 3",
   "language": "python",
   "name": "python3"
  },
  "language_info": {
   "codemirror_mode": {
    "name": "ipython",
    "version": 3
   },
   "file_extension": ".py",
   "mimetype": "text/x-python",
   "name": "python",
   "nbconvert_exporter": "python",
   "pygments_lexer": "ipython3",
   "version": "3.10.4"
  },
  "orig_nbformat": 4
 },
 "nbformat": 4,
 "nbformat_minor": 2
}
