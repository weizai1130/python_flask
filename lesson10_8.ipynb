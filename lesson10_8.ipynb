{
 "cells": [
  {
   "cell_type": "code",
   "execution_count": 13,
   "metadata": {},
   "outputs": [
    {
     "name": "stdout",
     "output_type": "stream",
     "text": [
      "連線成功\n",
      "<class 'list'>\n",
      "359\n",
      "                        車數  可借   行政區                   時間           地址  可還 狀態\n",
      "站點名稱                                                                         \n",
      "YouBike2.0_捷運科技大樓站      28   7   大安區  2023-06-03 16:04:17  復興南路二段235號前  21  1\n",
      "YouBike2.0_新生南路三段82號前   20   9   大安區  2023-06-03 16:03:14    新生南路三段82號  11  1\n",
      "YouBike2.0_羅斯福路三段311號前  11   9   大安區  2023-06-03 16:04:17   羅斯福路三段311號   1  1\n",
      "YouBike2.0_大安運動中心停車場    14   5   大安區  2023-06-03 16:00:51    敦南街76巷28號   8  1\n",
      "YouBike2.0_和平臥龍街口       15   5   大安區  2023-06-03 16:00:51        臥龍街1號  10  1\n",
      "...                     ..  ..   ...                  ...          ...  .. ..\n",
      "YouBike2.0_臺大凝態館南側      20   6  臺大專區  2023-06-03 15:52:15     臺大物理系館南側  13  1\n",
      "YouBike2.0_臺大博理館西側      22   5  臺大專區  2023-06-03 15:58:15      臺大博理館西側  17  1\n",
      "YouBike2.0_臺大森林館北側      10   7  臺大專區  2023-06-03 16:03:15    臺大森林系學系北側   3  1\n",
      "YouBike2.0_臺大新生教室南側     18   7  臺大專區  2023-06-03 16:03:15    臺大新生教學館南側  11  1\n",
      "YouBike2.0_臺大鄭江樓北側      10   7  臺大專區  2023-06-03 15:14:14    臺大新聞研究所南側   3  1\n",
      "\n",
      "[359 rows x 7 columns]\n"
     ]
    }
   ],
   "source": [
    "import requests\n",
    "import pandas as pd\n",
    "\n",
    "\n",
    "url = 'https://tcgbusfs.blob.core.windows.net/dotapp/youbike/v2/youbike_immediate.json'\n",
    "response = requests.request('GET',url)\n",
    "if response.status_code == 200:\n",
    "    print(\"連線成功\")\n",
    "    all_data = response.json()\n",
    "    print(type(all_data))\n",
    "else:\n",
    "    print(f\"連線失敗:{response.status_code}\")\n",
    "\n",
    "\n",
    "\n",
    "dataFrame = pd.DataFrame(data=all_data,columns=['sna','tot','sbi','sarea','mday','ar','bemp','act'])\n",
    "\n",
    "dataFrame.columns = [\"站點名稱\",\"車數\",\"可借\",\"行政區\",\"時間\",\"地址\",\"可還\",\"狀態\"]\n",
    "dataFrame1 = dataFrame.set_index(\"站點名稱\")\n",
    "\n",
    "mask = (dataFrame1['可借'] <= 10) & (dataFrame1['可借'] >= 5)\n",
    "mask_dataFrame = dataFrame1[mask]\n",
    "count = mask_dataFrame[\"車數\"].count()\n",
    "print(count)\n",
    "print(mask_dataFrame)"
   ]
  }
 ],
 "metadata": {
  "kernelspec": {
   "display_name": "Python 3",
   "language": "python",
   "name": "python3"
  },
  "language_info": {
   "codemirror_mode": {
    "name": "ipython",
    "version": 3
   },
   "file_extension": ".py",
   "mimetype": "text/x-python",
   "name": "python",
   "nbconvert_exporter": "python",
   "pygments_lexer": "ipython3",
   "version": "3.10.11"
  },
  "orig_nbformat": 4
 },
 "nbformat": 4,
 "nbformat_minor": 2
}
