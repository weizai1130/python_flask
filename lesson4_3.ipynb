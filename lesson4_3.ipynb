{
 "cells": [
  {
   "cell_type": "code",
   "execution_count": 73,
   "metadata": {},
   "outputs": [],
   "source": [
    "import random\n",
    "def generate_stu():\n",
    "    return [random.randint(50,100),random.randint(50,100),random.randint(50,100),random.randint(50,100),random.randint(50,100)]"
   ]
  },
  {
   "cell_type": "code",
   "execution_count": 74,
   "metadata": {},
   "outputs": [
    {
     "data": {
      "text/plain": [
       "[[81, 73, 57, 77, 67], [54, 52, 65, 64, 52], [82, 82, 86, 100, 96]]"
      ]
     },
     "execution_count": 74,
     "metadata": {},
     "output_type": "execute_result"
    }
   ],
   "source": [
    "students = [generate_stu(),generate_stu(),generate_stu()]\n",
    "students"
   ]
  },
  {
   "cell_type": "code",
   "execution_count": 75,
   "metadata": {},
   "outputs": [
    {
     "data": {
      "text/plain": [
       "[81, 73, 57, 77, 67]"
      ]
     },
     "execution_count": 75,
     "metadata": {},
     "output_type": "execute_result"
    }
   ],
   "source": [
    "students[0]"
   ]
  },
  {
   "cell_type": "code",
   "execution_count": 76,
   "metadata": {},
   "outputs": [
    {
     "data": {
      "text/plain": [
       "67"
      ]
     },
     "execution_count": 76,
     "metadata": {},
     "output_type": "execute_result"
    }
   ],
   "source": [
    "students[0][4]"
   ]
  },
  {
   "cell_type": "code",
   "execution_count": 78,
   "metadata": {},
   "outputs": [
    {
     "name": "stdout",
     "output_type": "stream",
     "text": [
      "[81, 73, 57, 77, 67]\n",
      "[54, 52, 65, 64, 52]\n",
      "[82, 82, 86, 100, 96]\n"
     ]
    }
   ],
   "source": [
    "for student in students:\n",
    "    print(student)\n"
   ]
  },
  {
   "cell_type": "code",
   "execution_count": 90,
   "metadata": {},
   "outputs": [
    {
     "name": "stdout",
     "output_type": "stream",
     "text": [
      "81\n",
      "73\n",
      "57\n",
      "77\n",
      "67\n",
      "===================\n",
      "54\n",
      "52\n",
      "65\n",
      "64\n",
      "52\n",
      "===================\n",
      "82\n",
      "82\n",
      "86\n",
      "100\n",
      "96\n",
      "===================\n"
     ]
    }
   ],
   "source": [
    "for student in students:\n",
    "    for value in student:\n",
    "        print(value)\n",
    "    print(\"===================\")"
   ]
  }
 ],
 "metadata": {
  "kernelspec": {
   "display_name": "Python 3",
   "language": "python",
   "name": "python3"
  },
  "language_info": {
   "codemirror_mode": {
    "name": "ipython",
    "version": 3
   },
   "file_extension": ".py",
   "mimetype": "text/x-python",
   "name": "python",
   "nbconvert_exporter": "python",
   "pygments_lexer": "ipython3",
   "version": "3.9.16"
  },
  "orig_nbformat": 4
 },
 "nbformat": 4,
 "nbformat_minor": 2
}
