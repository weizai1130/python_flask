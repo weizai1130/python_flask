{
 "cells": [
  {
   "cell_type": "code",
   "execution_count": 9,
   "metadata": {},
   "outputs": [
    {
     "name": "stdout",
     "output_type": "stream",
     "text": [
      "33\n",
      "34\n",
      "16\n",
      "10\n",
      "48\n",
      "48\n",
      "13\n"
     ]
    }
   ],
   "source": [
    "import random\n",
    "\n",
    "for i in range(7):\n",
    "    print(random.randint(1,49))"
   ]
  },
  {
   "cell_type": "code",
   "execution_count": 62,
   "metadata": {},
   "outputs": [
    {
     "name": "stdout",
     "output_type": "stream",
     "text": [
      "2 5 6 28 30 42 45 "
     ]
    }
   ],
   "source": [
    "import random\n",
    "loto = set()\n",
    "while(len(loto)<7):\n",
    "    loto.add(random.randint(1,49))\n",
    "sort_loto = sorted(loto)\n",
    "for item in sort_loto:\n",
    "    print(item,end=\" \")"
   ]
  }
 ],
 "metadata": {
  "kernelspec": {
   "display_name": "Python 3",
   "language": "python",
   "name": "python3"
  },
  "language_info": {
   "codemirror_mode": {
    "name": "ipython",
    "version": 3
   },
   "file_extension": ".py",
   "mimetype": "text/x-python",
   "name": "python",
   "nbconvert_exporter": "python",
   "pygments_lexer": "ipython3",
   "version": "3.9.16"
  },
  "orig_nbformat": 4
 },
 "nbformat": 4,
 "nbformat_minor": 2
}
